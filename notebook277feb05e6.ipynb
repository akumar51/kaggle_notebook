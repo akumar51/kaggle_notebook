{
 "cells": [
  {
   "cell_type": "code",
   "execution_count": 1,
   "id": "4121800d",
   "metadata": {
    "_cell_guid": "b1076dfc-b9ad-4769-8c92-a6c4dae69d19",
    "_uuid": "8f2839f25d086af736a60e9eeb907d3b93b6e0e5",
    "execution": {
     "iopub.execute_input": "2022-05-20T16:51:16.356687Z",
     "iopub.status.busy": "2022-05-20T16:51:16.355521Z",
     "iopub.status.idle": "2022-05-20T16:51:16.372219Z",
     "shell.execute_reply": "2022-05-20T16:51:16.371253Z"
    },
    "papermill": {
     "duration": 0.037723,
     "end_time": "2022-05-20T16:51:16.375262",
     "exception": false,
     "start_time": "2022-05-20T16:51:16.337539",
     "status": "completed"
    },
    "tags": []
   },
   "outputs": [],
   "source": [
    "# This Python 3 environment comes with many helpful analytics libraries installed\n",
    "# It is defined by the kaggle/python Docker image: https://github.com/kaggle/docker-python\n",
    "# For example, here's several helpful packages to load\n",
    "\n",
    "import numpy as np # linear algebra\n",
    "import pandas as pd # data processing, CSV file I/O (e.g. pd.read_csv)\n",
    "\n",
    "# Input data files are available in the read-only \"../input/\" directory\n",
    "# For example, running this (by clicking run or pressing Shift+Enter) will list all files under the input directory\n",
    "\n",
    "import os\n",
    "import collections\n",
    "for dirname, _, filenames in os.walk('/kaggle/input'):\n",
    "    for filename in filenames:\n",
    "        print(os.path.join(dirname, filename))\n",
    "\n",
    "# You can write up to 20GB to the current directory (/kaggle/working/) that gets preserved as output when you create a version using \"Save & Run All\" \n",
    "# You can also write temporary files to /kaggle/temp/, but they won't be saved outside of the current session"
   ]
  },
  {
   "cell_type": "code",
   "execution_count": 2,
   "id": "f96e2c8c",
   "metadata": {
    "execution": {
     "iopub.execute_input": "2022-05-20T16:51:16.410318Z",
     "iopub.status.busy": "2022-05-20T16:51:16.409568Z",
     "iopub.status.idle": "2022-05-20T16:51:16.416064Z",
     "shell.execute_reply": "2022-05-20T16:51:16.415352Z"
    },
    "papermill": {
     "duration": 0.027004,
     "end_time": "2022-05-20T16:51:16.418604",
     "exception": false,
     "start_time": "2022-05-20T16:51:16.391600",
     "status": "completed"
    },
    "tags": []
   },
   "outputs": [],
   "source": [
    "def find_prime_factors(num):\n",
    "    factors = []\n",
    "    div = 2\n",
    "    while(div <= num):\n",
    "        if(num%div == 0):\n",
    "            factors.append(div)\n",
    "            num = num/div\n",
    "        else:\n",
    "            div += 1\n",
    "    \n",
    "    return factors\n",
    "    "
   ]
  },
  {
   "cell_type": "code",
   "execution_count": 3,
   "id": "8875e41d",
   "metadata": {
    "execution": {
     "iopub.execute_input": "2022-05-20T16:51:16.451215Z",
     "iopub.status.busy": "2022-05-20T16:51:16.450532Z",
     "iopub.status.idle": "2022-05-20T16:51:16.460467Z",
     "shell.execute_reply": "2022-05-20T16:51:16.459289Z"
    },
    "papermill": {
     "duration": 0.02941,
     "end_time": "2022-05-20T16:51:16.463213",
     "exception": false,
     "start_time": "2022-05-20T16:51:16.433803",
     "status": "completed"
    },
    "tags": []
   },
   "outputs": [
    {
     "data": {
      "text/plain": [
       "[3, 3, 11]"
      ]
     },
     "execution_count": 3,
     "metadata": {},
     "output_type": "execute_result"
    }
   ],
   "source": [
    "find_prime_factors(99)"
   ]
  },
  {
   "cell_type": "code",
   "execution_count": 4,
   "id": "98b0e04a",
   "metadata": {
    "execution": {
     "iopub.execute_input": "2022-05-20T16:51:16.497444Z",
     "iopub.status.busy": "2022-05-20T16:51:16.496750Z",
     "iopub.status.idle": "2022-05-20T16:51:16.501719Z",
     "shell.execute_reply": "2022-05-20T16:51:16.501075Z"
    },
    "jupyter": {
     "source_hidden": true
    },
    "papermill": {
     "duration": 0.025425,
     "end_time": "2022-05-20T16:51:16.504105",
     "exception": false,
     "start_time": "2022-05-20T16:51:16.478680",
     "status": "completed"
    },
    "tags": []
   },
   "outputs": [],
   "source": [
    "def find_palindrome(word):\n",
    "    return word == word[::-1]"
   ]
  },
  {
   "cell_type": "code",
   "execution_count": 5,
   "id": "ab08501b",
   "metadata": {
    "execution": {
     "iopub.execute_input": "2022-05-20T16:51:16.534817Z",
     "iopub.status.busy": "2022-05-20T16:51:16.533840Z",
     "iopub.status.idle": "2022-05-20T16:51:16.540557Z",
     "shell.execute_reply": "2022-05-20T16:51:16.539741Z"
    },
    "jupyter": {
     "source_hidden": true
    },
    "papermill": {
     "duration": 0.024464,
     "end_time": "2022-05-20T16:51:16.542700",
     "exception": false,
     "start_time": "2022-05-20T16:51:16.518236",
     "status": "completed"
    },
    "tags": []
   },
   "outputs": [
    {
     "data": {
      "text/plain": [
       "True"
      ]
     },
     "execution_count": 5,
     "metadata": {},
     "output_type": "execute_result"
    }
   ],
   "source": [
    "find_palindrome('level')\n",
    "\n"
   ]
  },
  {
   "cell_type": "code",
   "execution_count": 6,
   "id": "3bbb7159",
   "metadata": {
    "execution": {
     "iopub.execute_input": "2022-05-20T16:51:16.575408Z",
     "iopub.status.busy": "2022-05-20T16:51:16.574775Z",
     "iopub.status.idle": "2022-05-20T16:51:16.580508Z",
     "shell.execute_reply": "2022-05-20T16:51:16.579468Z"
    },
    "jupyter": {
     "source_hidden": true
    },
    "papermill": {
     "duration": 0.025175,
     "end_time": "2022-05-20T16:51:16.582387",
     "exception": false,
     "start_time": "2022-05-20T16:51:16.557212",
     "status": "completed"
    },
    "tags": []
   },
   "outputs": [
    {
     "data": {
      "text/plain": [
       "False"
      ]
     },
     "execution_count": 6,
     "metadata": {},
     "output_type": "execute_result"
    }
   ],
   "source": [
    "find_palindrome('amit')"
   ]
  },
  {
   "cell_type": "code",
   "execution_count": 7,
   "id": "e655f1c6",
   "metadata": {
    "execution": {
     "iopub.execute_input": "2022-05-20T16:51:16.613796Z",
     "iopub.status.busy": "2022-05-20T16:51:16.613264Z",
     "iopub.status.idle": "2022-05-20T16:51:16.618751Z",
     "shell.execute_reply": "2022-05-20T16:51:16.618116Z"
    },
    "jupyter": {
     "source_hidden": true
    },
    "papermill": {
     "duration": 0.023816,
     "end_time": "2022-05-20T16:51:16.620755",
     "exception": false,
     "start_time": "2022-05-20T16:51:16.596939",
     "status": "completed"
    },
    "tags": []
   },
   "outputs": [
    {
     "data": {
      "text/plain": [
       "True"
      ]
     },
     "execution_count": 7,
     "metadata": {},
     "output_type": "execute_result"
    }
   ],
   "source": [
    "find_palindrome('abcdcba')"
   ]
  },
  {
   "cell_type": "code",
   "execution_count": 8,
   "id": "29b57974",
   "metadata": {
    "execution": {
     "iopub.execute_input": "2022-05-20T16:51:16.653251Z",
     "iopub.status.busy": "2022-05-20T16:51:16.652721Z",
     "iopub.status.idle": "2022-05-20T16:51:16.657486Z",
     "shell.execute_reply": "2022-05-20T16:51:16.656643Z"
    },
    "jupyter": {
     "source_hidden": true
    },
    "papermill": {
     "duration": 0.023773,
     "end_time": "2022-05-20T16:51:16.659664",
     "exception": false,
     "start_time": "2022-05-20T16:51:16.635891",
     "status": "completed"
    },
    "tags": []
   },
   "outputs": [],
   "source": [
    "def sort_words(word):\n",
    "    return ''.join(sorted(word.split(), key=str.casefold))\n",
    "    "
   ]
  },
  {
   "cell_type": "code",
   "execution_count": 9,
   "id": "f15fbd74",
   "metadata": {
    "execution": {
     "iopub.execute_input": "2022-05-20T16:51:16.692436Z",
     "iopub.status.busy": "2022-05-20T16:51:16.691604Z",
     "iopub.status.idle": "2022-05-20T16:51:16.697669Z",
     "shell.execute_reply": "2022-05-20T16:51:16.696992Z"
    },
    "jupyter": {
     "source_hidden": true
    },
    "papermill": {
     "duration": 0.024772,
     "end_time": "2022-05-20T16:51:16.699652",
     "exception": false,
     "start_time": "2022-05-20T16:51:16.674880",
     "status": "completed"
    },
    "tags": []
   },
   "outputs": [
    {
     "data": {
      "text/plain": [
       "'hellothishomeismy'"
      ]
     },
     "execution_count": 9,
     "metadata": {},
     "output_type": "execute_result"
    }
   ],
   "source": [
    "sort_words('hello' 'this is my home')"
   ]
  },
  {
   "cell_type": "code",
   "execution_count": 10,
   "id": "06294b7f",
   "metadata": {
    "execution": {
     "iopub.execute_input": "2022-05-20T16:51:16.733083Z",
     "iopub.status.busy": "2022-05-20T16:51:16.732504Z",
     "iopub.status.idle": "2022-05-20T16:51:16.738561Z",
     "shell.execute_reply": "2022-05-20T16:51:16.737891Z"
    },
    "papermill": {
     "duration": 0.02558,
     "end_time": "2022-05-20T16:51:16.740733",
     "exception": false,
     "start_time": "2022-05-20T16:51:16.715153",
     "status": "completed"
    },
    "tags": []
   },
   "outputs": [],
   "source": [
    "def find_index(numlist, item):\n",
    "    indices = []\n",
    "    for i in range(len(numlist)):\n",
    "        if numlist[i] == item:\n",
    "            indices.append([i])\n",
    "        elif isinstance(numlist[i], collections.MutableSequence):\n",
    "            for index in find_index(numlist[i], item):\n",
    "                indices.append([i]+index)\n",
    "    return indices"
   ]
  },
  {
   "cell_type": "code",
   "execution_count": 11,
   "id": "c19a69f1",
   "metadata": {
    "execution": {
     "iopub.execute_input": "2022-05-20T16:51:16.775810Z",
     "iopub.status.busy": "2022-05-20T16:51:16.775273Z",
     "iopub.status.idle": "2022-05-20T16:51:16.783820Z",
     "shell.execute_reply": "2022-05-20T16:51:16.782224Z"
    },
    "papermill": {
     "duration": 0.028856,
     "end_time": "2022-05-20T16:51:16.786233",
     "exception": false,
     "start_time": "2022-05-20T16:51:16.757377",
     "status": "completed"
    },
    "tags": []
   },
   "outputs": [
    {
     "name": "stderr",
     "output_type": "stream",
     "text": [
      "/opt/conda/lib/python3.7/site-packages/ipykernel_launcher.py:6: DeprecationWarning: Using or importing the ABCs from 'collections' instead of from 'collections.abc' is deprecated since Python 3.3,and in 3.9 it will stop working\n",
      "  \n"
     ]
    },
    {
     "data": {
      "text/plain": [
       "[[1], [2, 2], [3, 0]]"
      ]
     },
     "execution_count": 11,
     "metadata": {},
     "output_type": "execute_result"
    }
   ],
   "source": [
    "templist_index = [1,2,[3,4,2],[2,7]]\n",
    "find_index(templist_index, 2)"
   ]
  },
  {
   "cell_type": "code",
   "execution_count": null,
   "id": "41add5fb",
   "metadata": {
    "papermill": {
     "duration": 0.016424,
     "end_time": "2022-05-20T16:51:16.819705",
     "exception": false,
     "start_time": "2022-05-20T16:51:16.803281",
     "status": "completed"
    },
    "tags": []
   },
   "outputs": [],
   "source": []
  }
 ],
 "metadata": {
  "kernelspec": {
   "display_name": "Python 3",
   "language": "python",
   "name": "python3"
  },
  "language_info": {
   "codemirror_mode": {
    "name": "ipython",
    "version": 3
   },
   "file_extension": ".py",
   "mimetype": "text/x-python",
   "name": "python",
   "nbconvert_exporter": "python",
   "pygments_lexer": "ipython3",
   "version": "3.7.12"
  },
  "papermill": {
   "default_parameters": {},
   "duration": 12.343291,
   "end_time": "2022-05-20T16:51:17.660165",
   "environment_variables": {},
   "exception": null,
   "input_path": "__notebook__.ipynb",
   "output_path": "__notebook__.ipynb",
   "parameters": {},
   "start_time": "2022-05-20T16:51:05.316874",
   "version": "2.3.4"
  }
 },
 "nbformat": 4,
 "nbformat_minor": 5
}
